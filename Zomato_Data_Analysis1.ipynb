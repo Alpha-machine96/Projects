{
 "cells": [
  {
   "cell_type": "code",
   "execution_count": null,
   "id": "7c9f5ca8-4698-4ef2-876c-daeaf03dbdf8",
   "metadata": {},
   "outputs": [],
   "source": [
    "# Import necessary libraries\n",
    "import pandas as pd\n",
    "import numpy as np\n",
    "import matplotlib.pyplot as plt\n",
    "import seaborn as sns\n",
    "\n",
    "sns.set_palette(\"Set1\")"
   ]
  },
  {
   "cell_type": "code",
   "execution_count": null,
   "id": "e0a39d2f-b3a2-4761-99a8-ad1b83cc57a9",
   "metadata": {},
   "outputs": [],
   "source": [
    "# Read file into dataframe\n",
    "df = pd.read_csv(r\"C:\\Users\\LENOVO\\Documents\\My Files Practice\\Zomato-data-.csv\")\n",
    "df.head()"
   ]
  },
  {
   "cell_type": "code",
   "execution_count": null,
   "id": "661b3a17-287c-4c31-8cce-8cceef43657e",
   "metadata": {},
   "outputs": [],
   "source": [
    "# Get summary about the data frame \n",
    "df.info()"
   ]
  },
  {
   "cell_type": "code",
   "execution_count": null,
   "id": "0e5de8c3-1635-4b8c-a4da-d7c05c355ec2",
   "metadata": {},
   "outputs": [],
   "source": [
    " # 1. Check for missing values\n",
    "print(\"Missing values per column:\")\n",
    "missing_values = df.isnull().sum()\n",
    "print(missing_values[missing_values > 0])"
   ]
  },
  {
   "cell_type": "code",
   "execution_count": null,
   "id": "02e4f5c7-f875-489c-b412-adb918d783e6",
   "metadata": {},
   "outputs": [],
   "source": [
    "# 2. Remove the denominator in the rate column to put data in cleaner format\n",
    "def handleRate(value):\n",
    "    value=str(value).split('/')\n",
    "    value=value[0];\n",
    "    return float(value)"
   ]
  },
  {
   "cell_type": "code",
   "execution_count": null,
   "id": "41060e59-d153-4a1b-afd4-783c2c4080ff",
   "metadata": {},
   "outputs": [],
   "source": [
    "df['rate']=df['rate'].apply(handleRate)\n",
    "df.head()"
   ]
  },
  {
   "cell_type": "code",
   "execution_count": null,
   "id": "670376d3-970e-4c9b-8745-57cda6b219c6",
   "metadata": {},
   "outputs": [],
   "source": [
    "df.info()"
   ]
  },
  {
   "cell_type": "code",
   "execution_count": null,
   "id": "3d3aa01c-272a-4f08-9c1d-42bad4879a48",
   "metadata": {},
   "outputs": [],
   "source": [
    " # 3. Standardize categorical columns\n",
    "df[\"online_order\"] = df[\"online_order\"].str.strip()\n",
    "df[\"book_table\"] = df[\"book_table\"].str.strip()\n",
    "df[\"resturant_type\"] = df[\"listed_in(type)\"].str.strip()"
   ]
  },
  {
   "cell_type": "code",
   "execution_count": null,
   "id": "509e2186-8827-40a1-9264-c827ed2fa100",
   "metadata": {},
   "outputs": [],
   "source": [
    "df[\"cost_for_two\"] = df[\"approx_cost(for two people)\"]"
   ]
  },
  {
   "cell_type": "code",
   "execution_count": null,
   "id": "70af46c9-6a8c-4fbc-bf03-9821a84c5776",
   "metadata": {},
   "outputs": [],
   "source": [
    "# 4. Drop columns\n",
    "df.drop(columns = [\"approx_cost(for two people)\", \"listed_in(type)\"], axis = 1, inplace = True)"
   ]
  },
  {
   "cell_type": "code",
   "execution_count": null,
   "id": "dcbf087c-29de-49f3-b4ba-c0e7c77999be",
   "metadata": {},
   "outputs": [],
   "source": [
    "df.head()"
   ]
  },
  {
   "cell_type": "code",
   "execution_count": null,
   "id": "094fcdf7-f395-40ed-9681-fa582466b76e",
   "metadata": {},
   "outputs": [],
   "source": [
    "# Exploring online vs offline order\n",
    "sns.countplot(x = df[\"online_order\"], hue = df[\"online_order\"])\n",
    "plt.xlabel(\"Online Order\");\n"
   ]
  },
  {
   "cell_type": "code",
   "execution_count": null,
   "id": "aa6cd5b1-70e6-483b-9b13-bc71489bef3a",
   "metadata": {},
   "outputs": [],
   "source": [
    "# Order mode prefered by resturant type\n",
    "pivot_table = df.pivot_table(index=\"resturant_type\", columns=\"online_order\", aggfunc=\"size\", fill_value=0)\n",
    "sns.heatmap(pivot_table, annot=True, cmap='YlGnBu', fmt='d')\n",
    "plt.title(\"Heatmap\")\n",
    "plt.xlabel(\"Online Order\")\n",
    "plt.ylabel(\"Resturant Type\")\n",
    "plt.show()"
   ]
  },
  {
   "cell_type": "code",
   "execution_count": null,
   "id": "a2669676-c0c6-488a-b393-28850cf2f157",
   "metadata": {},
   "outputs": [],
   "source": [
    "online_order_percentage = ((df[\"online_order\"].value_counts(normalize = True))*100).round(2)\n",
    "print(online_order_percentage)"
   ]
  },
  {
   "cell_type": "code",
   "execution_count": null,
   "id": "bb797b45-bcae-463b-8427-e0597062f1a1",
   "metadata": {},
   "outputs": [],
   "source": [
    "# Exploring the resturant types by availability\n",
    "sns.countplot(x = df[\"resturant_type\"], hue = df[\"resturant_type\"])\n",
    "plt.xlabel(\"Type of Resturant\");"
   ]
  },
  {
   "cell_type": "code",
   "execution_count": null,
   "id": "aa812de0-4a84-474b-b425-0e6d13d74d93",
   "metadata": {},
   "outputs": [],
   "source": [
    "percentage_of_resturant_type = ((df[\"resturant_type\"].value_counts(normalize = True)) * 100).round(2)\n",
    "print(percentage_of_resturant_type)"
   ]
  },
  {
   "cell_type": "code",
   "execution_count": null,
   "id": "0ac19e7b-5aba-4cf8-a5e4-ccc9cda57707",
   "metadata": {},
   "outputs": [],
   "source": [
    "# Exploring resturant types by popularity\n",
    "grouped_data = df.groupby(\"resturant_type\")[\"votes\"].sum()\n",
    "plt.plot(grouped_data, marker = \"o\")\n",
    "plt.xlabel(\"Resturant Type\")\n",
    "plt.ylabel(\"Sum of Votes\")\n",
    "plt.title(\"Resturant Type Popularity Chart\")"
   ]
  },
  {
   "cell_type": "code",
   "execution_count": null,
   "id": "c17e68ed-f696-40b5-9a37-7b371bb6711e",
   "metadata": {},
   "outputs": [],
   "source": [
    "# Price category function\n",
    "def categorize_price(cost):\n",
    "    if cost <= 300:\n",
    "        return 'Budget (≤300)'\n",
    "    elif cost <= 600:\n",
    "        return 'Mid-range (301-600)'\n",
    "    elif cost <= 900:\n",
    "        return 'Premium (601-900)'\n",
    "    else:\n",
    "        return 'Luxury (>900)'\n",
    "    \n",
    "df['price_category'] = df['cost_for_two'].apply(categorize_price)\n",
    "    "
   ]
  },
  {
   "cell_type": "code",
   "execution_count": null,
   "id": "5434c802-5d43-4171-9d00-ee20c21307d9",
   "metadata": {},
   "outputs": [],
   "source": [
    "# Analyze preferences by votes (popularity proxy)\n",
    "price_analysis = df.groupby(\"price_category\").agg({\n",
    "        \"votes\": [\"count\", \"sum\", \"mean\"],\n",
    "        \"rate\": \"mean\",\n",
    "        \"cost_for_two\": \"mean\"\n",
    " }).round(2)\n",
    "    \n",
    "price_analysis.columns = [\"num_restaurants\", \"total_votes\", \"avg_votes_per_restaurant\", \"avg_rating\", \"avg_cost\"]\n",
    "    \n",
    "# Sort by total votes to see most popular price ranges\n",
    "price_analysis = price_analysis.sort_values(\"total_votes\", ascending=False)"
   ]
  },
  {
   "cell_type": "code",
   "execution_count": null,
   "id": "170dea38-1b5e-4913-b5f1-a96c5b1f13c7",
   "metadata": {},
   "outputs": [],
   "source": [
    "price_analysis"
   ]
  },
  {
   "cell_type": "code",
   "execution_count": null,
   "id": "b1430e18-8285-4241-928d-6683fbd65416",
   "metadata": {},
   "outputs": [],
   "source": [
    "# Exploring the price rate for couples\n",
    "sns.countplot(x= df[\"cost_for_two\"], hue = df[\"cost_for_two\"]);"
   ]
  },
  {
   "cell_type": "code",
   "execution_count": null,
   "id": "9fff20fa-f484-4301-826b-f8f55a53cace",
   "metadata": {},
   "outputs": [],
   "source": [
    "plt.hist(x=df[\"cost_for_two\"], bins = 10);"
   ]
  },
  {
   "cell_type": "code",
   "execution_count": null,
   "id": "31df9a7d-e635-4484-9bc9-11a70aa492fb",
   "metadata": {},
   "outputs": [],
   "source": []
  },
  {
   "cell_type": "code",
   "execution_count": null,
   "id": "51abeedb-bbd2-47e1-85b9-c44c47a99550",
   "metadata": {},
   "outputs": [],
   "source": [
    "\n",
    "    "
   ]
  },
  {
   "cell_type": "code",
   "execution_count": null,
   "id": "e9bf0acc-4239-499d-a814-ae18013d73e3",
   "metadata": {},
   "outputs": [],
   "source": []
  }
 ],
 "metadata": {
  "kernelspec": {
   "display_name": "Python [conda env:base] *",
   "language": "python",
   "name": "conda-base-py"
  },
  "language_info": {
   "codemirror_mode": {
    "name": "ipython",
    "version": 3
   },
   "file_extension": ".py",
   "mimetype": "text/x-python",
   "name": "python",
   "nbconvert_exporter": "python",
   "pygments_lexer": "ipython3",
   "version": "3.12.7"
  }
 },
 "nbformat": 4,
 "nbformat_minor": 5
}
