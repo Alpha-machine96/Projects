{
 "cells": [
  {
   "cell_type": "code",
   "execution_count": 1,
   "id": "7c9f5ca8-4698-4ef2-876c-daeaf03dbdf8",
   "metadata": {},
   "outputs": [],
   "source": [
    "# Import necessary libraries\n",
    "import pandas as pd\n",
    "import numpy as np\n",
    "import matplotlib.pyplot as plt\n",
    "import seaborn as sns\n",
    "\n",
    "sns.set_palette(\"Set1\")"
   ]
  },
  {
   "cell_type": "code",
   "execution_count": 2,
   "id": "e0a39d2f-b3a2-4761-99a8-ad1b83cc57a9",
   "metadata": {},
   "outputs": [
    {
     "data": {
      "text/html": [
       "<div>\n",
       "<style scoped>\n",
       "    .dataframe tbody tr th:only-of-type {\n",
       "        vertical-align: middle;\n",
       "    }\n",
       "\n",
       "    .dataframe tbody tr th {\n",
       "        vertical-align: top;\n",
       "    }\n",
       "\n",
       "    .dataframe thead th {\n",
       "        text-align: right;\n",
       "    }\n",
       "</style>\n",
       "<table border=\"1\" class=\"dataframe\">\n",
       "  <thead>\n",
       "    <tr style=\"text-align: right;\">\n",
       "      <th></th>\n",
       "      <th>name</th>\n",
       "      <th>online_order</th>\n",
       "      <th>book_table</th>\n",
       "      <th>rate</th>\n",
       "      <th>votes</th>\n",
       "      <th>approx_cost(for two people)</th>\n",
       "      <th>listed_in(type)</th>\n",
       "    </tr>\n",
       "  </thead>\n",
       "  <tbody>\n",
       "    <tr>\n",
       "      <th>0</th>\n",
       "      <td>Jalsa</td>\n",
       "      <td>Yes</td>\n",
       "      <td>Yes</td>\n",
       "      <td>4.1/5</td>\n",
       "      <td>775</td>\n",
       "      <td>800</td>\n",
       "      <td>Buffet</td>\n",
       "    </tr>\n",
       "    <tr>\n",
       "      <th>1</th>\n",
       "      <td>Spice Elephant</td>\n",
       "      <td>Yes</td>\n",
       "      <td>No</td>\n",
       "      <td>4.1/5</td>\n",
       "      <td>787</td>\n",
       "      <td>800</td>\n",
       "      <td>Buffet</td>\n",
       "    </tr>\n",
       "    <tr>\n",
       "      <th>2</th>\n",
       "      <td>San Churro Cafe</td>\n",
       "      <td>Yes</td>\n",
       "      <td>No</td>\n",
       "      <td>3.8/5</td>\n",
       "      <td>918</td>\n",
       "      <td>800</td>\n",
       "      <td>Buffet</td>\n",
       "    </tr>\n",
       "    <tr>\n",
       "      <th>3</th>\n",
       "      <td>Addhuri Udupi Bhojana</td>\n",
       "      <td>No</td>\n",
       "      <td>No</td>\n",
       "      <td>3.7/5</td>\n",
       "      <td>88</td>\n",
       "      <td>300</td>\n",
       "      <td>Buffet</td>\n",
       "    </tr>\n",
       "    <tr>\n",
       "      <th>4</th>\n",
       "      <td>Grand Village</td>\n",
       "      <td>No</td>\n",
       "      <td>No</td>\n",
       "      <td>3.8/5</td>\n",
       "      <td>166</td>\n",
       "      <td>600</td>\n",
       "      <td>Buffet</td>\n",
       "    </tr>\n",
       "  </tbody>\n",
       "</table>\n",
       "</div>"
      ],
      "text/plain": [
       "                    name online_order book_table   rate  votes  \\\n",
       "0                  Jalsa          Yes        Yes  4.1/5    775   \n",
       "1         Spice Elephant          Yes         No  4.1/5    787   \n",
       "2        San Churro Cafe          Yes         No  3.8/5    918   \n",
       "3  Addhuri Udupi Bhojana           No         No  3.7/5     88   \n",
       "4          Grand Village           No         No  3.8/5    166   \n",
       "\n",
       "   approx_cost(for two people) listed_in(type)  \n",
       "0                          800          Buffet  \n",
       "1                          800          Buffet  \n",
       "2                          800          Buffet  \n",
       "3                          300          Buffet  \n",
       "4                          600          Buffet  "
      ]
     },
     "execution_count": 2,
     "metadata": {},
     "output_type": "execute_result"
    }
   ],
   "source": [
    "# Read file into dataframe\n",
    "df = pd.read_csv(r\"C:\\Users\\LENOVO\\Documents\\My Files Practice\\Zomato-data-.csv\")\n",
    "df.head()"
   ]
  },
  {
   "cell_type": "code",
   "execution_count": 3,
   "id": "661b3a17-287c-4c31-8cce-8cceef43657e",
   "metadata": {},
   "outputs": [
    {
     "name": "stdout",
     "output_type": "stream",
     "text": [
      "<class 'pandas.core.frame.DataFrame'>\n",
      "RangeIndex: 148 entries, 0 to 147\n",
      "Data columns (total 7 columns):\n",
      " #   Column                       Non-Null Count  Dtype \n",
      "---  ------                       --------------  ----- \n",
      " 0   name                         148 non-null    object\n",
      " 1   online_order                 148 non-null    object\n",
      " 2   book_table                   148 non-null    object\n",
      " 3   rate                         148 non-null    object\n",
      " 4   votes                        148 non-null    int64 \n",
      " 5   approx_cost(for two people)  148 non-null    int64 \n",
      " 6   listed_in(type)              148 non-null    object\n",
      "dtypes: int64(2), object(5)\n",
      "memory usage: 8.2+ KB\n"
     ]
    }
   ],
   "source": [
    "# Get summary about the data frame \n",
    "df.info()"
   ]
  },
  {
   "cell_type": "code",
   "execution_count": 4,
   "id": "0e5de8c3-1635-4b8c-a4da-d7c05c355ec2",
   "metadata": {},
   "outputs": [
    {
     "name": "stdout",
     "output_type": "stream",
     "text": [
      "Missing values per column:\n",
      "Series([], dtype: int64)\n"
     ]
    }
   ],
   "source": [
    " # 1. Check for missing values\n",
    "print(\"Missing values per column:\")\n",
    "missing_values = df.isnull().sum()\n",
    "print(missing_values[missing_values > 0])"
   ]
  },
  {
   "cell_type": "code",
   "execution_count": 5,
   "id": "02e4f5c7-f875-489c-b412-adb918d783e6",
   "metadata": {},
   "outputs": [],
   "source": [
    "# 2. Remove the denominator in the rate column to put data in cleaner format\n",
    "def handleRate(value):\n",
    "    value=str(value).split('/')\n",
    "    value=value[0];\n",
    "    return float(value)"
   ]
  },
  {
   "cell_type": "code",
   "execution_count": 6,
   "id": "41060e59-d153-4a1b-afd4-783c2c4080ff",
   "metadata": {},
   "outputs": [
    {
     "data": {
      "text/html": [
       "<div>\n",
       "<style scoped>\n",
       "    .dataframe tbody tr th:only-of-type {\n",
       "        vertical-align: middle;\n",
       "    }\n",
       "\n",
       "    .dataframe tbody tr th {\n",
       "        vertical-align: top;\n",
       "    }\n",
       "\n",
       "    .dataframe thead th {\n",
       "        text-align: right;\n",
       "    }\n",
       "</style>\n",
       "<table border=\"1\" class=\"dataframe\">\n",
       "  <thead>\n",
       "    <tr style=\"text-align: right;\">\n",
       "      <th></th>\n",
       "      <th>name</th>\n",
       "      <th>online_order</th>\n",
       "      <th>book_table</th>\n",
       "      <th>rate</th>\n",
       "      <th>votes</th>\n",
       "      <th>approx_cost(for two people)</th>\n",
       "      <th>listed_in(type)</th>\n",
       "    </tr>\n",
       "  </thead>\n",
       "  <tbody>\n",
       "    <tr>\n",
       "      <th>0</th>\n",
       "      <td>Jalsa</td>\n",
       "      <td>Yes</td>\n",
       "      <td>Yes</td>\n",
       "      <td>4.1</td>\n",
       "      <td>775</td>\n",
       "      <td>800</td>\n",
       "      <td>Buffet</td>\n",
       "    </tr>\n",
       "    <tr>\n",
       "      <th>1</th>\n",
       "      <td>Spice Elephant</td>\n",
       "      <td>Yes</td>\n",
       "      <td>No</td>\n",
       "      <td>4.1</td>\n",
       "      <td>787</td>\n",
       "      <td>800</td>\n",
       "      <td>Buffet</td>\n",
       "    </tr>\n",
       "    <tr>\n",
       "      <th>2</th>\n",
       "      <td>San Churro Cafe</td>\n",
       "      <td>Yes</td>\n",
       "      <td>No</td>\n",
       "      <td>3.8</td>\n",
       "      <td>918</td>\n",
       "      <td>800</td>\n",
       "      <td>Buffet</td>\n",
       "    </tr>\n",
       "    <tr>\n",
       "      <th>3</th>\n",
       "      <td>Addhuri Udupi Bhojana</td>\n",
       "      <td>No</td>\n",
       "      <td>No</td>\n",
       "      <td>3.7</td>\n",
       "      <td>88</td>\n",
       "      <td>300</td>\n",
       "      <td>Buffet</td>\n",
       "    </tr>\n",
       "    <tr>\n",
       "      <th>4</th>\n",
       "      <td>Grand Village</td>\n",
       "      <td>No</td>\n",
       "      <td>No</td>\n",
       "      <td>3.8</td>\n",
       "      <td>166</td>\n",
       "      <td>600</td>\n",
       "      <td>Buffet</td>\n",
       "    </tr>\n",
       "  </tbody>\n",
       "</table>\n",
       "</div>"
      ],
      "text/plain": [
       "                    name online_order book_table  rate  votes  \\\n",
       "0                  Jalsa          Yes        Yes   4.1    775   \n",
       "1         Spice Elephant          Yes         No   4.1    787   \n",
       "2        San Churro Cafe          Yes         No   3.8    918   \n",
       "3  Addhuri Udupi Bhojana           No         No   3.7     88   \n",
       "4          Grand Village           No         No   3.8    166   \n",
       "\n",
       "   approx_cost(for two people) listed_in(type)  \n",
       "0                          800          Buffet  \n",
       "1                          800          Buffet  \n",
       "2                          800          Buffet  \n",
       "3                          300          Buffet  \n",
       "4                          600          Buffet  "
      ]
     },
     "execution_count": 6,
     "metadata": {},
     "output_type": "execute_result"
    }
   ],
   "source": [
    "df['rate']=df['rate'].apply(handleRate)\n",
    "df.head()"
   ]
  },
  {
   "cell_type": "code",
   "execution_count": 7,
   "id": "670376d3-970e-4c9b-8745-57cda6b219c6",
   "metadata": {},
   "outputs": [
    {
     "name": "stdout",
     "output_type": "stream",
     "text": [
      "<class 'pandas.core.frame.DataFrame'>\n",
      "RangeIndex: 148 entries, 0 to 147\n",
      "Data columns (total 7 columns):\n",
      " #   Column                       Non-Null Count  Dtype  \n",
      "---  ------                       --------------  -----  \n",
      " 0   name                         148 non-null    object \n",
      " 1   online_order                 148 non-null    object \n",
      " 2   book_table                   148 non-null    object \n",
      " 3   rate                         148 non-null    float64\n",
      " 4   votes                        148 non-null    int64  \n",
      " 5   approx_cost(for two people)  148 non-null    int64  \n",
      " 6   listed_in(type)              148 non-null    object \n",
      "dtypes: float64(1), int64(2), object(4)\n",
      "memory usage: 8.2+ KB\n"
     ]
    }
   ],
   "source": [
    "df.info()"
   ]
  },
  {
   "cell_type": "code",
   "execution_count": 8,
   "id": "3d3aa01c-272a-4f08-9c1d-42bad4879a48",
   "metadata": {},
   "outputs": [],
   "source": [
    " # 3. Standardize categorical columns\n",
    "df[\"online_order\"] = df[\"online_order\"].str.strip()\n",
    "df[\"book_table\"] = df[\"book_table\"].str.strip()\n",
    "df[\"resturant_type\"] = df[\"listed_in(type)\"].str.strip()"
   ]
  },
  {
   "cell_type": "code",
   "execution_count": 9,
   "id": "509e2186-8827-40a1-9264-c827ed2fa100",
   "metadata": {},
   "outputs": [],
   "source": [
    "df[\"cost_for_two\"] = df[\"approx_cost(for two people)\"]"
   ]
  },
  {
   "cell_type": "code",
   "execution_count": 10,
   "id": "70af46c9-6a8c-4fbc-bf03-9821a84c5776",
   "metadata": {},
   "outputs": [],
   "source": [
    "# 4. Drop columns\n",
    "df.drop(columns = [\"approx_cost(for two people)\", \"listed_in(type)\"], axis = 1, inplace = True)"
   ]
  },
  {
   "cell_type": "code",
   "execution_count": 11,
   "id": "dcbf087c-29de-49f3-b4ba-c0e7c77999be",
   "metadata": {},
   "outputs": [
    {
     "data": {
      "text/html": [
       "<div>\n",
       "<style scoped>\n",
       "    .dataframe tbody tr th:only-of-type {\n",
       "        vertical-align: middle;\n",
       "    }\n",
       "\n",
       "    .dataframe tbody tr th {\n",
       "        vertical-align: top;\n",
       "    }\n",
       "\n",
       "    .dataframe thead th {\n",
       "        text-align: right;\n",
       "    }\n",
       "</style>\n",
       "<table border=\"1\" class=\"dataframe\">\n",
       "  <thead>\n",
       "    <tr style=\"text-align: right;\">\n",
       "      <th></th>\n",
       "      <th>name</th>\n",
       "      <th>online_order</th>\n",
       "      <th>book_table</th>\n",
       "      <th>rate</th>\n",
       "      <th>votes</th>\n",
       "      <th>resturant_type</th>\n",
       "      <th>cost_for_two</th>\n",
       "    </tr>\n",
       "  </thead>\n",
       "  <tbody>\n",
       "    <tr>\n",
       "      <th>0</th>\n",
       "      <td>Jalsa</td>\n",
       "      <td>Yes</td>\n",
       "      <td>Yes</td>\n",
       "      <td>4.1</td>\n",
       "      <td>775</td>\n",
       "      <td>Buffet</td>\n",
       "      <td>800</td>\n",
       "    </tr>\n",
       "    <tr>\n",
       "      <th>1</th>\n",
       "      <td>Spice Elephant</td>\n",
       "      <td>Yes</td>\n",
       "      <td>No</td>\n",
       "      <td>4.1</td>\n",
       "      <td>787</td>\n",
       "      <td>Buffet</td>\n",
       "      <td>800</td>\n",
       "    </tr>\n",
       "    <tr>\n",
       "      <th>2</th>\n",
       "      <td>San Churro Cafe</td>\n",
       "      <td>Yes</td>\n",
       "      <td>No</td>\n",
       "      <td>3.8</td>\n",
       "      <td>918</td>\n",
       "      <td>Buffet</td>\n",
       "      <td>800</td>\n",
       "    </tr>\n",
       "    <tr>\n",
       "      <th>3</th>\n",
       "      <td>Addhuri Udupi Bhojana</td>\n",
       "      <td>No</td>\n",
       "      <td>No</td>\n",
       "      <td>3.7</td>\n",
       "      <td>88</td>\n",
       "      <td>Buffet</td>\n",
       "      <td>300</td>\n",
       "    </tr>\n",
       "    <tr>\n",
       "      <th>4</th>\n",
       "      <td>Grand Village</td>\n",
       "      <td>No</td>\n",
       "      <td>No</td>\n",
       "      <td>3.8</td>\n",
       "      <td>166</td>\n",
       "      <td>Buffet</td>\n",
       "      <td>600</td>\n",
       "    </tr>\n",
       "  </tbody>\n",
       "</table>\n",
       "</div>"
      ],
      "text/plain": [
       "                    name online_order book_table  rate  votes resturant_type  \\\n",
       "0                  Jalsa          Yes        Yes   4.1    775         Buffet   \n",
       "1         Spice Elephant          Yes         No   4.1    787         Buffet   \n",
       "2        San Churro Cafe          Yes         No   3.8    918         Buffet   \n",
       "3  Addhuri Udupi Bhojana           No         No   3.7     88         Buffet   \n",
       "4          Grand Village           No         No   3.8    166         Buffet   \n",
       "\n",
       "   cost_for_two  \n",
       "0           800  \n",
       "1           800  \n",
       "2           800  \n",
       "3           300  \n",
       "4           600  "
      ]
     },
     "execution_count": 11,
     "metadata": {},
     "output_type": "execute_result"
    }
   ],
   "source": [
    "df.head()"
   ]
  },
  {
   "cell_type": "code",
   "execution_count": 12,
   "id": "094fcdf7-f395-40ed-9681-fa582466b76e",
   "metadata": {},
   "outputs": [
    {
     "data": {
      "image/png": "[encoded data removed]",
      "text/plain": [
       "<Figure size 640x480 with 1 Axes>"
      ]
     },
     "metadata": {},
     "output_type": "display_data"
    }
   ],
   "source": [
    "# Exploring online vs offline order\n",
    "sns.countplot(x = df[\"online_order\"], hue = df[\"online_order\"])\n",
    "plt.xlabel(\"Online Order\");\n"
   ]
  },
  {
   "cell_type": "code",
   "execution_count": 58,
   "id": "a535a4cc-491c-4ca1-aab3-2ad8a77e4cd6",
   "metadata": {},
   "outputs": [
    {
     "name": "stdout",
     "output_type": "stream",
     "text": [
      "online_order\n",
      "No     60.81\n",
      "Yes    39.19\n",
      "Name: proportion, dtype: float64\n"
     ]
    }
   ],
   "source": [
    "online_order_percentage = ((df[\"online_order\"].value_counts(normalize = True))*100).round(2)\n",
    "print(online_order_percentage)"
   ]
  },
  {
   "cell_type": "code",
   "execution_count": 56,
   "id": "a814a57a-278c-4819-aedc-84d8192aaa94",
   "metadata": {},
   "outputs": [
    {
     "data": {
      "image/png": "[encoded data removed]",
      "text/plain": [
       "<Figure size 640x480 with 1 Axes>"
      ]
     },
     "metadata": {},
     "output_type": "display_data"
    }
   ],
   "source": [
    "# Exploring resturants that offer table booking\n",
    "sns.countplot(x = df[\"book_table\"], hue = df[\"book_table\"], palette = \"Set2\");"
   ]
  },
  {
   "cell_type": "code",
   "execution_count": 60,
   "id": "b019b2b8-b0c3-4649-9ab2-ef4940eaa179",
   "metadata": {},
   "outputs": [
    {
     "name": "stdout",
     "output_type": "stream",
     "text": [
      "book_table\n",
      "No     94.59\n",
      "Yes     5.41\n",
      "Name: proportion, dtype: float64\n"
     ]
    }
   ],
   "source": [
    "table_booking_percentage = ((df[\"book_table\"].value_counts(normalize = True))*100).round(2)\n",
    "print(table_booking_percentage)"
   ]
  },
  {
   "cell_type": "code",
   "execution_count": 13,
   "id": "aa6cd5b1-70e6-483b-9b13-bc71489bef3a",
   "metadata": {},
   "outputs": [
    {
     "data": {
      "image/png": "[encoded data removed]",
      "text/plain": [
       "<Figure size 640x480 with 2 Axes>"
      ]
     },
     "metadata": {},
     "output_type": "display_data"
    }
   ],
   "source": [
    "# Order mode prefered by resturant type\n",
    "pivot_table = df.pivot_table(index=\"resturant_type\", columns=\"online_order\", aggfunc=\"size\", fill_value=0)\n",
    "sns.heatmap(pivot_table, annot=True, cmap='YlGnBu', fmt='d')\n",
    "plt.title(\"Heatmap\")\n",
    "plt.xlabel(\"Online Order\")\n",
    "plt.ylabel(\"Resturant Type\")\n",
    "plt.show()"
   ]
  },
  {
   "cell_type": "code",
   "execution_count": 15,
   "id": "bb797b45-bcae-463b-8427-e0597062f1a1",
   "metadata": {},
   "outputs": [
    {
     "data": {
      "image/png": "[encoded data removed]",
      "text/plain": [
       "<Figure size 640x480 with 1 Axes>"
      ]
     },
     "metadata": {},
     "output_type": "display_data"
    }
   ],
   "source": [
    "# Exploring the resturant types by availability\n",
    "sns.countplot(x = df[\"resturant_type\"], hue = df[\"resturant_type\"])\n",
    "plt.xlabel(\"Type of Resturant\");"
   ]
  },
  {
   "cell_type": "code",
   "execution_count": 16,
   "id": "aa812de0-4a84-474b-b425-0e6d13d74d93",
   "metadata": {},
   "outputs": [
    {
     "name": "stdout",
     "output_type": "stream",
     "text": [
      "resturant_type\n",
      "Dining    74.32\n",
      "Cafes     15.54\n",
      "other      5.41\n",
      "Buffet     4.73\n",
      "Name: proportion, dtype: float64\n"
     ]
    }
   ],
   "source": [
    "percentage_of_resturant_type = ((df[\"resturant_type\"].value_counts(normalize = True)) * 100).round(2)\n",
    "print(percentage_of_resturant_type)"
   ]
  },
  {
   "cell_type": "code",
   "execution_count": 17,
   "id": "0ac19e7b-5aba-4cf8-a5e4-ccc9cda57707",
   "metadata": {},
   "outputs": [
    {
     "data": {
      "text/plain": [
       "Text(0.5, 1.0, 'Resturant Type Popularity Chart')"
      ]
     },
     "execution_count": 17,
     "metadata": {},
     "output_type": "execute_result"
    },
    {
     "data": {
      "image/png": "[encoded data removed]",
      "text/plain": [
       "<Figure size 640x480 with 1 Axes>"
      ]
     },
     "metadata": {},
     "output_type": "display_data"
    }
   ],
   "source": [
    "# Exploring resturant types by popularity\n",
    "grouped_data = df.groupby(\"resturant_type\")[\"votes\"].sum()\n",
    "plt.plot(grouped_data, marker = \"o\")\n",
    "plt.xlabel(\"Resturant Type\")\n",
    "plt.ylabel(\"Sum of Votes\")\n",
    "plt.title(\"Resturant Type Popularity Chart\")"
   ]
  },
  {
   "cell_type": "code",
   "execution_count": 68,
   "id": "76f2ea98-2273-4041-8dd7-439afd6f76ac",
   "metadata": {},
   "outputs": [
    {
     "data": {
      "text/html": [
       "<div>\n",
       "<style scoped>\n",
       "    .dataframe tbody tr th:only-of-type {\n",
       "        vertical-align: middle;\n",
       "    }\n",
       "\n",
       "    .dataframe tbody tr th {\n",
       "        vertical-align: top;\n",
       "    }\n",
       "\n",
       "    .dataframe thead th {\n",
       "        text-align: right;\n",
       "    }\n",
       "</style>\n",
       "<table border=\"1\" class=\"dataframe\">\n",
       "  <thead>\n",
       "    <tr style=\"text-align: right;\">\n",
       "      <th></th>\n",
       "      <th>votes</th>\n",
       "    </tr>\n",
       "    <tr>\n",
       "      <th>resturant_type</th>\n",
       "      <th></th>\n",
       "    </tr>\n",
       "  </thead>\n",
       "  <tbody>\n",
       "    <tr>\n",
       "      <th>Buffet</th>\n",
       "      <td>3028</td>\n",
       "    </tr>\n",
       "    <tr>\n",
       "      <th>Cafes</th>\n",
       "      <td>6434</td>\n",
       "    </tr>\n",
       "    <tr>\n",
       "      <th>Dining</th>\n",
       "      <td>20363</td>\n",
       "    </tr>\n",
       "    <tr>\n",
       "      <th>other</th>\n",
       "      <td>9367</td>\n",
       "    </tr>\n",
       "  </tbody>\n",
       "</table>\n",
       "</div>"
      ],
      "text/plain": [
       "                votes\n",
       "resturant_type       \n",
       "Buffet           3028\n",
       "Cafes            6434\n",
       "Dining          20363\n",
       "other            9367"
      ]
     },
     "execution_count": 68,
     "metadata": {},
     "output_type": "execute_result"
    }
   ],
   "source": [
    "grouped_data.to_frame()"
   ]
  },
  {
   "cell_type": "code",
   "execution_count": 18,
   "id": "c17e68ed-f696-40b5-9a37-7b371bb6711e",
   "metadata": {},
   "outputs": [],
   "source": [
    "# Price category function\n",
    "def categorize_price(cost):\n",
    "    if cost <= 300:\n",
    "        return 'Budget (≤300)'\n",
    "    elif cost <= 600:\n",
    "        return 'Mid-range (301-600)'\n",
    "    elif cost <= 900:\n",
    "        return 'Premium (601-900)'\n",
    "    else:\n",
    "        return 'Luxury (>900)'\n",
    "    \n",
    "df['price_category'] = df['cost_for_two'].apply(categorize_price)\n",
    "    "
   ]
  },
  {
   "cell_type": "code",
   "execution_count": 19,
   "id": "5434c802-5d43-4171-9d00-ee20c21307d9",
   "metadata": {},
   "outputs": [],
   "source": [
    "# Analyze preferences by votes (popularity proxy)\n",
    "price_analysis = df.groupby(\"price_category\").agg({\n",
    "        \"votes\": [\"count\", \"sum\", \"mean\"],\n",
    "        \"rate\": \"mean\",\n",
    "        \"cost_for_two\": \"mean\"\n",
    " }).round(2)\n",
    "    \n",
    "price_analysis.columns = [\"num_restaurants\", \"total_votes\", \"avg_votes_per_restaurant\", \"avg_rating\", \"avg_cost\"]\n",
    "    \n",
    "# Sort by total votes to see most popular price ranges\n",
    "price_analysis = price_analysis.sort_values(\"total_votes\", ascending=False)"
   ]
  },
  {
   "cell_type": "code",
   "execution_count": 20,
   "id": "170dea38-1b5e-4913-b5f1-a96c5b1f13c7",
   "metadata": {},
   "outputs": [
    {
     "data": {
      "text/html": [
       "<div>\n",
       "<style scoped>\n",
       "    .dataframe tbody tr th:only-of-type {\n",
       "        vertical-align: middle;\n",
       "    }\n",
       "\n",
       "    .dataframe tbody tr th {\n",
       "        vertical-align: top;\n",
       "    }\n",
       "\n",
       "    .dataframe thead th {\n",
       "        text-align: right;\n",
       "    }\n",
       "</style>\n",
       "<table border=\"1\" class=\"dataframe\">\n",
       "  <thead>\n",
       "    <tr style=\"text-align: right;\">\n",
       "      <th></th>\n",
       "      <th>num_restaurants</th>\n",
       "      <th>total_votes</th>\n",
       "      <th>avg_votes_per_restaurant</th>\n",
       "      <th>avg_rating</th>\n",
       "      <th>avg_cost</th>\n",
       "    </tr>\n",
       "    <tr>\n",
       "      <th>price_category</th>\n",
       "      <th></th>\n",
       "      <th></th>\n",
       "      <th></th>\n",
       "      <th></th>\n",
       "      <th></th>\n",
       "    </tr>\n",
       "  </thead>\n",
       "  <tbody>\n",
       "    <tr>\n",
       "      <th>Mid-range (301-600)</th>\n",
       "      <td>54</td>\n",
       "      <td>21561</td>\n",
       "      <td>399.28</td>\n",
       "      <td>3.69</td>\n",
       "      <td>485.19</td>\n",
       "    </tr>\n",
       "    <tr>\n",
       "      <th>Premium (601-900)</th>\n",
       "      <td>26</td>\n",
       "      <td>14001</td>\n",
       "      <td>538.50</td>\n",
       "      <td>3.79</td>\n",
       "      <td>775.00</td>\n",
       "    </tr>\n",
       "    <tr>\n",
       "      <th>Budget (≤300)</th>\n",
       "      <td>67</td>\n",
       "      <td>3591</td>\n",
       "      <td>53.60</td>\n",
       "      <td>3.53</td>\n",
       "      <td>217.91</td>\n",
       "    </tr>\n",
       "    <tr>\n",
       "      <th>Luxury (&gt;900)</th>\n",
       "      <td>1</td>\n",
       "      <td>39</td>\n",
       "      <td>39.00</td>\n",
       "      <td>3.70</td>\n",
       "      <td>950.00</td>\n",
       "    </tr>\n",
       "  </tbody>\n",
       "</table>\n",
       "</div>"
      ],
      "text/plain": [
       "                     num_restaurants  total_votes  avg_votes_per_restaurant  \\\n",
       "price_category                                                                \n",
       "Mid-range (301-600)               54        21561                    399.28   \n",
       "Premium (601-900)                 26        14001                    538.50   \n",
       "Budget (≤300)                     67         3591                     53.60   \n",
       "Luxury (>900)                      1           39                     39.00   \n",
       "\n",
       "                     avg_rating  avg_cost  \n",
       "price_category                             \n",
       "Mid-range (301-600)        3.69    485.19  \n",
       "Premium (601-900)          3.79    775.00  \n",
       "Budget (≤300)              3.53    217.91  \n",
       "Luxury (>900)              3.70    950.00  "
      ]
     },
     "execution_count": 20,
     "metadata": {},
     "output_type": "execute_result"
    }
   ],
   "source": [
    "price_analysis"
   ]
  },
  {
   "cell_type": "code",
   "execution_count": 21,
   "id": "b1430e18-8285-4241-928d-6683fbd65416",
   "metadata": {},
   "outputs": [
    {
     "data": {
      "image/png": "[encoded data removed]",
      "text/plain": [
       "<Figure size 640x480 with 1 Axes>"
      ]
     },
     "metadata": {},
     "output_type": "display_data"
    }
   ],
   "source": [
    "# Exploring the price rate for couples\n",
    "sns.countplot(x= df[\"cost_for_two\"], hue = df[\"cost_for_two\"]);"
   ]
  },
  {
   "cell_type": "code",
   "execution_count": 22,
   "id": "9fff20fa-f484-4301-826b-f8f55a53cace",
   "metadata": {},
   "outputs": [
    {
     "data": {
      "image/png": "[encoded data removed]",
      "text/plain": [
       "<Figure size 640x480 with 1 Axes>"
      ]
     },
     "metadata": {},
     "output_type": "display_data"
    }
   ],
   "source": [
    "plt.hist(x=df[\"cost_for_two\"], bins = 10);"
   ]
  },
  {
   "cell_type": "code",
   "execution_count": null,
   "id": "31df9a7d-e635-4484-9bc9-11a70aa492fb",
   "metadata": {},
   "outputs": [],
   "source": []
  },
  {
   "cell_type": "code",
   "execution_count": null,
   "id": "51abeedb-bbd2-47e1-85b9-c44c47a99550",
   "metadata": {},
   "outputs": [],
   "source": [
    "\n",
    "    "
   ]
  },
  {
   "cell_type": "code",
   "execution_count": null,
   "id": "e9bf0acc-4239-499d-a814-ae18013d73e3",
   "metadata": {},
   "outputs": [],
   "source": []
  }
 ],
 "metadata": {
  "kernelspec": {
   "display_name": "Python [conda env:base] *",
   "language": "python",
   "name": "conda-base-py"
  },
  "language_info": {
   "codemirror_mode": {
    "name": "ipython",
    "version": 3
   },
   "file_extension": ".py",
   "mimetype": "text/x-python",
   "name": "python",
   "nbconvert_exporter": "python",
   "pygments_lexer": "ipython3",
   "version": "3.12.7"
  }
 },
 "nbformat": 4,
 "nbformat_minor": 5
}
